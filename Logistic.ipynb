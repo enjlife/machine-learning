{
 "cells": [
  {
   "cell_type": "code",
   "execution_count": 28,
   "metadata": {},
   "outputs": [],
   "source": [
    "import numpy as np\n",
    "#logistic回归梯度上升优化算法(也可以叫梯度下降)\n",
    "def loaddata():\n",
    "    datamat = []\n",
    "    label = []\n",
    "    with open('/Users/enjlife/machine-learning/machinelearninginaction/ch05/testSet.txt') as fr:\n",
    "        for line in fr.readlines():\n",
    "            arr = line.strip().split()\n",
    "            datamat.append([1.0,float(arr[0]),float(arr[1])])\n",
    "            label.append(int(arr[2]))\n",
    "    return datamat,label\n",
    "def sigmoid(x):\n",
    "    return 1.0/(1+np.exp(-x))\n",
    "def gradasc(datamat,label):\n",
    "    datama = np.array(datamat)\n",
    "    labelma = np.expand_dims(np.array(label),axis=1)\n",
    "    m,n = np.shape(datama)\n",
    "    a = 0.001\n",
    "    cycles = 500\n",
    "    weights = np.ones((n,1))\n",
    "    for k in range(cycles):\n",
    "        #print(np.dot(datamat,weights))\n",
    "        h = sigmoid(np.dot(datamat,weights))\n",
    "        error = labelma-h\n",
    "        weights = weights + a*np.dot(datama.transpose(),error)\n",
    "    #print(datama)\n",
    "    return weights,datama,labelma\n",
    "        "
   ]
  },
  {
   "cell_type": "code",
   "execution_count": 29,
   "metadata": {},
   "outputs": [],
   "source": [
    "datamat,label = loaddata()\n",
    "#print(datamat)\n",
    "weights,datama,labelma = gradasc(datamat,label)"
   ]
  },
  {
   "cell_type": "code",
   "execution_count": 30,
   "metadata": {},
   "outputs": [
    {
     "data": {
      "text/plain": [
       "-1.395634"
      ]
     },
     "execution_count": 30,
     "metadata": {},
     "output_type": "execute_result"
    }
   ],
   "source": [
    "datama[1,1]"
   ]
  },
  {
   "cell_type": "code",
   "execution_count": 31,
   "metadata": {},
   "outputs": [],
   "source": [
    "#画出决策边界\n",
    "import matplotlib.pyplot as plt\n",
    "def plotfit(datamat,label):\n",
    "    weights,datama,labelma = gradasc(datamat,label)\n",
    "    n = datama.shape[0]\n",
    "    xc1=[]\n",
    "    yc1=[]\n",
    "    xc2=[]\n",
    "    yc2=[]\n",
    "    #print(datama)\n",
    "    for i in range(n):\n",
    "        if labelma[i]==1:\n",
    "            xc1.append(datama[i,1])\n",
    "            yc1.append(datama[i,2])\n",
    "        else:\n",
    "            #print(datama[i,1])\n",
    "            xc2.append(datama[i,1])\n",
    "            yc2.append(datama[i,2])\n",
    "    plt.figure()\n",
    "    plt.subplot(111)\n",
    "    plt.scatter(xc1,yc1,s=30,c='red')\n",
    "    plt.scatter(xc2,yc2,s=30,c='green')\n",
    "    x = np.linspace(-3,3,60)#range只接受整数步长\n",
    "    y = (-weights[0]-weights[1]*x)/weights[2]#取边界点\n",
    "    plt.plot(x,y,c='black')\n",
    "    plt.xlabel('x1')\n",
    "    plt.ylabel('x2')\n",
    "    plt.show()\n",
    "    "
   ]
  },
  {
   "cell_type": "code",
   "execution_count": 32,
   "metadata": {},
   "outputs": [
    {
     "data": {
      "image/png": "[encoded data removed]",
      "text/plain": [
       "<matplotlib.figure.Figure at 0x11586aeb8>"
      ]
     },
     "metadata": {},
     "output_type": "display_data"
    }
   ],
   "source": [
    "plotfit(datamat,label)"
   ]
  },
  {
   "cell_type": "code",
   "execution_count": 67,
   "metadata": {},
   "outputs": [],
   "source": [
    "#随机梯度下降法\n",
    "def stogradasc(datamat,label,inum,batch_size):\n",
    "    datama = np.array(datamat)\n",
    "    labelma = np.expand_dims(np.array(label),axis=1)\n",
    "    m,n = np.shape(datama)\n",
    "    weights = np.ones((n,1))\n",
    "    batch = int(m/batch_size)\n",
    "    for i in range(inum):\n",
    "        for j in range(batch):\n",
    "            a = 0.001\n",
    "            baj = batch_size*j\n",
    "            baj1 = batch_size*(j+1)\n",
    "            if baj1>m : baj1=m\n",
    "            dataid = datama[baj:baj1,:]\n",
    "            labelid = labelma[baj:baj1,:]\n",
    "            #print(np.dot(dataid,weights))\n",
    "            h = sigmoid(np.dot(dataid,weights))\n",
    "            error = labelid-h\n",
    "            weights = weights + a*np.dot(dataid.transpose(),error)\n",
    "    return weights"
   ]
  },
  {
   "cell_type": "code",
   "execution_count": 68,
   "metadata": {},
   "outputs": [
    {
     "data": {
      "text/plain": [
       "array([[ 5.43820834],\n",
       "       [ 0.57816326],\n",
       "       [-0.78801246]])"
      ]
     },
     "execution_count": 68,
     "metadata": {},
     "output_type": "execute_result"
    }
   ],
   "source": [
    "weights=stogradasc(datamat,label,1000,50)\n",
    "weights"
   ]
  },
  {
   "cell_type": "code",
   "execution_count": 291,
   "metadata": {},
   "outputs": [
    {
     "data": {
      "text/plain": [
       "array([0.17367724])"
      ]
     },
     "execution_count": 291,
     "metadata": {},
     "output_type": "execute_result"
    }
   ],
   "source": [
    "a = np.random.rand(3,1)\n",
    "a[1,:]"
   ]
  },
  {
   "cell_type": "code",
   "execution_count": 50,
   "metadata": {},
   "outputs": [],
   "source": [
    "#随机梯度下降法可视化\n",
    "def stoplotfit(datamat,label,weightnew):\n",
    "    weig,datama,labelma = gradasc(datamat,label)\n",
    "    n = datama.shape[0]\n",
    "    print(weightnew)\n",
    "    xc1=[]\n",
    "    yc1=[]\n",
    "    xc2=[]\n",
    "    yc2=[]\n",
    "    for i in range(n):\n",
    "        if labelma[i]==1:\n",
    "            xc1.append(datama[i,1])\n",
    "            yc1.append(datama[i,2])\n",
    "        else:\n",
    "            #print(datama[i,1])\n",
    "            xc2.append(datama[i,1])\n",
    "            yc2.append(datama[i,2])\n",
    "    plt.figure()\n",
    "    plt.subplot(111)\n",
    "    plt.scatter(xc1,yc1,s=30,c='red')\n",
    "    plt.scatter(xc2,yc2,s=30,c='green')\n",
    "    x = np.linspace(-3,3,60)#range只接受整数步长\n",
    "    y = (-weightnew[0]-weightnew[1]*x)/weights[2]#取边界点\n",
    "    plt.plot(x,y,c='black')\n",
    "    plt.xlabel('x1')\n",
    "    plt.ylabel('x2')\n",
    "    plt.show()"
   ]
  },
  {
   "cell_type": "code",
   "execution_count": 58,
   "metadata": {},
   "outputs": [
    {
     "name": "stdout",
     "output_type": "stream",
     "text": [
      "[[ 5.43820834]\n",
      " [ 0.57816326]\n",
      " [-0.78801246]]\n"
     ]
    },
    {
     "data": {
      "image/png": "[encoded data removed]",
      "text/plain": [
       "<matplotlib.figure.Figure at 0x115b516d8>"
      ]
     },
     "metadata": {},
     "output_type": "display_data"
    }
   ],
   "source": [
    "stoplotfit(datamat,label,weights)"
   ]
  },
  {
   "cell_type": "code",
   "execution_count": 65,
   "metadata": {},
   "outputs": [],
   "source": [
    "  \n",
    "def colic():\n",
    "    with open('/Users/enjlife/machine-learning/machinelearninginaction/ch05/horseColicTraining.txt') as fr:\n",
    "        trset = []\n",
    "        trlabel = []\n",
    "        for line in fr.readlines():\n",
    "            curline = line.strip().split('\\t')\n",
    "            trset.append(np.array(curline[:21]).astype(float))\n",
    "            trlabel.append(float(curline[21]))\n",
    "    with open('/Users/enjlife/machine-learning/machinelearninginaction/ch05/horseColicTest.txt') as fr:\n",
    "        teset = []\n",
    "        telabel = []\n",
    "        for line in fr.readlines():\n",
    "            curline = line.strip().split('\\t')\n",
    "            teset.append(np.array(curline[:21]).astype(float))\n",
    "            telabel.append(float(curline[21]))\n",
    "    return trset,trlabel,teset,telabel"
   ]
  },
  {
   "cell_type": "code",
   "execution_count": 81,
   "metadata": {},
   "outputs": [],
   "source": [
    "#用logistic回归进行分类\n",
    "def classvec(x,weights):\n",
    "    prob = sigmoid(np.dot(x,weights))\n",
    "    yprob = prob > 0.5\n",
    "    #print(yprob)\n",
    "    return yprob"
   ]
  },
  {
   "cell_type": "code",
   "execution_count": 66,
   "metadata": {},
   "outputs": [
    {
     "name": "stdout",
     "output_type": "stream",
     "text": [
      "299\n",
      "299\n"
     ]
    }
   ],
   "source": [
    "trset,trlabel,teset,telabel = colic()"
   ]
  },
  {
   "cell_type": "code",
   "execution_count": 69,
   "metadata": {},
   "outputs": [],
   "source": [
    "trweights = stogradasc(trset,trlabel,500,50)"
   ]
  },
  {
   "cell_type": "code",
   "execution_count": 82,
   "metadata": {},
   "outputs": [
    {
     "name": "stdout",
     "output_type": "stream",
     "text": [
      "(67, 21)\n",
      "the error rate:0.26865671641791045\n"
     ]
    }
   ],
   "source": [
    "testset = np.array(teset)\n",
    "testlabel = np.expand_dims(np.array(telabel),axis=1)\n",
    "yprob = classvec(testset,trweights)\n",
    "lente = testset.shape[0]\n",
    "count = 0\n",
    "for i in range(lente):\n",
    "    if int(yprob[i]) != int(telabel[i]):\n",
    "        count += 1\n",
    "print('the error rate:%s' %(float(count)/lente))"
   ]
  },
  {
   "cell_type": "code",
   "execution_count": 77,
   "metadata": {},
   "outputs": [
    {
     "data": {
      "text/plain": [
       "(21, 1)"
      ]
     },
     "execution_count": 77,
     "metadata": {},
     "output_type": "execute_result"
    }
   ],
   "source": [
    "trweights.shape"
   ]
  },
  {
   "cell_type": "code",
   "execution_count": null,
   "metadata": {},
   "outputs": [],
   "source": []
  }
 ],
 "metadata": {
  "kernelspec": {
   "display_name": "Python 3",
   "language": "python",
   "name": "python3"
  },
  "language_info": {
   "codemirror_mode": {
    "name": "ipython",
    "version": 3
   },
   "file_extension": ".py",
   "mimetype": "text/x-python",
   "name": "python",
   "nbconvert_exporter": "python",
   "pygments_lexer": "ipython3",
   "version": "3.6.4"
  }
 },
 "nbformat": 4,
 "nbformat_minor": 2
}
