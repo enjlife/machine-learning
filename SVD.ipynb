{
 "cells": [
  {
   "cell_type": "code",
   "execution_count": 2,
   "metadata": {},
   "outputs": [],
   "source": [
    "import numpy as np"
   ]
  },
  {
   "cell_type": "code",
   "execution_count": 4,
   "metadata": {},
   "outputs": [
    {
     "name": "stdout",
     "output_type": "stream",
     "text": [
      "[[-0.14142136 -0.98994949]\n",
      " [-0.98994949  0.14142136]] \n",
      " [10.  0.] \n",
      " [[-0.70710678 -0.70710678]\n",
      " [-0.70710678  0.70710678]]\n"
     ]
    }
   ],
   "source": [
    "svddata = np.array([[1,1],[7,7]])\n",
    "U,Sigma,VT = np.linalg.svd(svddata)\n",
    "print(U,'\\n',Sigma,'\\n',VT)"
   ]
  },
  {
   "cell_type": "code",
   "execution_count": 15,
   "metadata": {},
   "outputs": [],
   "source": [
    "def loaddata():\n",
    "    return [[1,1,1,0,0],[2,2,2,0,0],[1,1,1,0,0],[5,5,5,0,0],[1,1,0,2,2],[0,0,0,3,3],[0,0,0,1,1]]"
   ]
  },
  {
   "cell_type": "code",
   "execution_count": 18,
   "metadata": {},
   "outputs": [
    {
     "data": {
      "text/plain": [
       "array([[ 1.00000000e+00,  1.00000000e+00,  1.00000000e+00,\n",
       "        -3.06102944e-16, -3.24716158e-16],\n",
       "       [ 2.00000000e+00,  2.00000000e+00,  2.00000000e+00,\n",
       "         1.56507791e-16,  1.19281363e-16],\n",
       "       [ 1.00000000e+00,  1.00000000e+00,  1.00000000e+00,\n",
       "         1.59285357e-15,  1.57424036e-15],\n",
       "       [ 5.00000000e+00,  5.00000000e+00,  5.00000000e+00,\n",
       "        -1.16268486e-17, -1.04909757e-16],\n",
       "       [ 1.00000000e+00,  1.00000000e+00, -1.08845596e-15,\n",
       "         2.00000000e+00,  2.00000000e+00],\n",
       "       [ 2.54588945e-16,  1.60102837e-15, -1.68123482e-15,\n",
       "         3.00000000e+00,  3.00000000e+00],\n",
       "       [ 1.30086946e-16,  5.78900087e-16, -6.70962949e-16,\n",
       "         1.00000000e+00,  1.00000000e+00]])"
      ]
     },
     "execution_count": 18,
     "metadata": {},
     "output_type": "execute_result"
    }
   ],
   "source": [
    "data = loaddata()\n",
    "U,Sigma,VT = np.linalg.svd(data)\n",
    "Sig3 = np.array([[Sigma[0],0,0],[0,Sigma[1],0],[0,0,Sigma[2]]])\n",
    "np.dot(np.dot(U[:,:3],Sig3),VT[:3,:])\n",
    "#可以看到返回的数据几乎与原数据一样"
   ]
  },
  {
   "cell_type": "code",
   "execution_count": 22,
   "metadata": {},
   "outputs": [],
   "source": [
    "def eclud(ina,inb):\n",
    "    return 1.0/(1.0+np.linalg.norm(ina-inb))#np.linalg.norm 求范数\n",
    "def pears(ina,inb):\n",
    "    if len(ina)<3: return 1.0\n",
    "    return 0.5+0.5*np.corrcoef(ina,inb,rowvar=0)[0][1]#第0组数组和第一组数组的相关系数\n",
    "def coss(ina,inb):\n",
    "    num = np.dot(ina.T,inb).astype(float)\n",
    "    denom = np.linalg.norm(ina)*np.linalg.norm(inb)\n",
    "    return 0.5+0.5*(num/denom)"
   ]
  },
  {
   "cell_type": "code",
   "execution_count": 50,
   "metadata": {},
   "outputs": [
    {
     "data": {
      "text/plain": [
       "0.12973190755680383"
      ]
     },
     "execution_count": 50,
     "metadata": {},
     "output_type": "execute_result"
    }
   ],
   "source": [
    "arr = np.array(data2)\n",
    "eclud(arr[:,0],arr[:,0])\n",
    "eclud(arr[:,0],arr[:,4])"
   ]
  },
  {
   "cell_type": "code",
   "execution_count": 52,
   "metadata": {},
   "outputs": [
    {
     "data": {
      "text/plain": [
       "0.5"
      ]
     },
     "execution_count": 52,
     "metadata": {},
     "output_type": "execute_result"
    }
   ],
   "source": [
    "coss(arr[:,0],arr[:,4])\n",
    "#coss(arr[:,0],arr[:,0])"
   ]
  },
  {
   "cell_type": "code",
   "execution_count": 54,
   "metadata": {},
   "outputs": [
    {
     "data": {
      "text/plain": [
       "0.20596538173840329"
      ]
     },
     "execution_count": 54,
     "metadata": {},
     "output_type": "execute_result"
    }
   ],
   "source": [
    "pears(arr[:,0],arr[:,4])\n",
    "#pears(arr[:,0],arr[:,0])"
   ]
  },
  {
   "cell_type": "code",
   "execution_count": 27,
   "metadata": {},
   "outputs": [
    {
     "data": {
      "text/plain": [
       "[[1, 1, 1, 0, 0],\n",
       " [2, 2, 2, 0, 0],\n",
       " [1, 1, 1, 0, 0],\n",
       " [5, 5, 5, 0, 0],\n",
       " [1, 1, 0, 2, 2],\n",
       " [0, 0, 0, 3, 3],\n",
       " [0, 0, 0, 1, 1]]"
      ]
     },
     "execution_count": 27,
     "metadata": {},
     "output_type": "execute_result"
    }
   ],
   "source": [
    "data"
   ]
  },
  {
   "cell_type": "code",
   "execution_count": 38,
   "metadata": {},
   "outputs": [],
   "source": [
    "data2 = [[0, 0, 0, 2, 2],\n",
    "           [0, 0, 0, 3, 3],\n",
    "           [0, 0, 0, 1, 1],\n",
    "           [1, 1, 1, 0, 0],\n",
    "           [2, 2, 2, 0, 0],\n",
    "           [5, 5, 5, 0, 0],\n",
    "           [1, 1, 1, 0, 0]]"
   ]
  },
  {
   "cell_type": "code",
   "execution_count": 33,
   "metadata": {},
   "outputs": [],
   "source": [
    "def standest(data,user,simeas,item):#user给定\n",
    "    n = data.shape[1]\n",
    "    simtal = 0.0\n",
    "    ratsimtal = 0.0\n",
    "    for j in range(n):\n",
    "        userrating = data[user,j]\n",
    "        if userrating == 0: continue\n",
    "        overlap = np.nonzero(np.logical_and(data[:,item],data[:,j]))[0]#获取两个物品都非0的索引\n",
    "        if len(overlap)==0:\n",
    "            similar = 0\n",
    "        else: similar = simeas(data[overlap,item],data[overlap,j])#计算j和item的物品都非0的相似度（默认余弦相似度）\n",
    "        print('the %d and %d similarity is: %f' %(item,j,similar))\n",
    "        simtal += similar\n",
    "        ratsimtal += similar*userrating#每一个特征的值乘相关系数\n",
    "    if simtal ==0: return 0\n",
    "    else: return ratsimtal/simtal        "
   ]
  },
  {
   "cell_type": "code",
   "execution_count": 45,
   "metadata": {},
   "outputs": [],
   "source": [
    "def recommend(data,user,N=3,simeas=coss,estmethod=standest):\n",
    "    #print(np.nonzero(data[user,:]==0))\n",
    "    unrated = np.nonzero(data[user,:]==0)[0]# 获取列索引\n",
    "    if len(unrated)==0: return 'you rated everything'\n",
    "    itemscores = []\n",
    "    for item in unrated:\n",
    "        estscore = estmethod(data,user,simeas,item)\n",
    "        itemscores.append((item,estscore))\n",
    "    return sorted(itemscores,key=lambda jj:jj[1],reverse=True)[:N]"
   ]
  },
  {
   "cell_type": "code",
   "execution_count": 39,
   "metadata": {},
   "outputs": [
    {
     "data": {
      "text/plain": [
       "array([[4, 4, 0, 2, 2],\n",
       "       [4, 0, 0, 3, 3],\n",
       "       [4, 0, 0, 1, 1],\n",
       "       [1, 1, 1, 2, 0],\n",
       "       [2, 2, 2, 0, 0],\n",
       "       [5, 5, 5, 0, 0],\n",
       "       [1, 1, 1, 0, 0]])"
      ]
     },
     "execution_count": 39,
     "metadata": {},
     "output_type": "execute_result"
    }
   ],
   "source": [
    "data3 = np.array(data2)\n",
    "data3[0,1]=data3[0,0]=data3[1,0]=data3[2,0]=4\n",
    "data3[3,3]=2\n",
    "data3"
   ]
  },
  {
   "cell_type": "code",
   "execution_count": 57,
   "metadata": {},
   "outputs": [
    {
     "name": "stdout",
     "output_type": "stream",
     "text": [
      "(array([1, 2]),)\n",
      "the 1 and 0 similarity is: 1.000000\n",
      "the 1 and 3 similarity is: 0.928746\n",
      "the 1 and 4 similarity is: 1.000000\n",
      "the 2 and 0 similarity is: 1.000000\n",
      "the 2 and 3 similarity is: 1.000000\n",
      "the 2 and 4 similarity is: 0.000000\n"
     ]
    },
    {
     "data": {
      "text/plain": [
       "[(2, 2.5), (1, 2.0243290220056256)]"
      ]
     },
     "execution_count": 57,
     "metadata": {},
     "output_type": "execute_result"
    }
   ],
   "source": [
    "recommend(data3,2,simeas=coss)"
   ]
  },
  {
   "cell_type": "code",
   "execution_count": 31,
   "metadata": {},
   "outputs": [
    {
     "name": "stdout",
     "output_type": "stream",
     "text": [
      "False [False  True] [False False  True  True False]\n"
     ]
    }
   ],
   "source": [
    "a = np.logical_and(True,False)\n",
    "b = np.logical_and([1,2],[0,1])\n",
    "c = np.arange(5)\n",
    "d = np.logical_and(c>1,c<4)\n",
    "print(a,b,d)"
   ]
  },
  {
   "cell_type": "code",
   "execution_count": 59,
   "metadata": {},
   "outputs": [],
   "source": [
    "def loaddata2():\n",
    "    return[[0, 0, 0, 0, 0, 4, 0, 0, 0, 0, 5],\n",
    "           [0, 0, 0, 3, 0, 4, 0, 0, 0, 0, 3],\n",
    "           [0, 0, 0, 0, 4, 0, 0, 1, 0, 4, 0],\n",
    "           [3, 3, 4, 0, 0, 0, 0, 2, 2, 0, 0],\n",
    "           [5, 4, 5, 0, 0, 0, 0, 5, 5, 0, 0],\n",
    "           [0, 0, 0, 0, 5, 0, 1, 0, 0, 5, 0],\n",
    "           [4, 3, 4, 0, 0, 0, 0, 5, 5, 0, 1],\n",
    "           [0, 0, 0, 4, 0, 4, 0, 0, 0, 0, 4],\n",
    "           [0, 0, 0, 2, 0, 2, 5, 0, 0, 1, 2],\n",
    "           [0, 0, 0, 0, 5, 0, 0, 0, 0, 4, 0],\n",
    "           [1, 0, 0, 0, 0, 0, 0, 1, 2, 0, 0]]"
   ]
  },
  {
   "cell_type": "code",
   "execution_count": 78,
   "metadata": {},
   "outputs": [
    {
     "name": "stdout",
     "output_type": "stream",
     "text": [
      "[15.77075346 11.40670395 11.03044558  4.84639758  3.09292055  2.58097379\n",
      "  1.00413543  0.72817072  0.43800353  0.22082113  0.07367823]\n",
      "500.5002891275791 487.7999999999994\n"
     ]
    }
   ],
   "source": [
    "data4 = np.array(loaddata2())\n",
    "U,Sigma,VT = np.linalg.svd(np.array(data4))\n",
    "print(Sigma)\n",
    "Sigma2 = Sigma**2\n",
    "sums = np.sum(Sigma2)\n",
    "print(np.sum(Sigma2[:3]),0.9*sums)"
   ]
  },
  {
   "cell_type": "code",
   "execution_count": 75,
   "metadata": {},
   "outputs": [],
   "source": [
    "#基于SVD评分设计\n",
    "def svdest(data,user,simeas,item):\n",
    "    n = data.shape[1]\n",
    "    simtal = 0.0\n",
    "    ratsimtal = 0.0\n",
    "    U,Sigma,VT = np.linalg.svd(data)\n",
    "    sig4 = np.eye(4)*Sigma[:4]\n",
    "    formitem = np.dot(np.dot(data.T,U[:,:4]),np.linalg.inv(sig4))\n",
    "    print(formitem)\n",
    "    for j in range(n):\n",
    "        userrating = data[user,j]\n",
    "        if userrating ==0 or j ==item:\n",
    "            continue\n",
    "        similar = simeas(formitem[item,:].T,formitem[j,:].T)\n",
    "        print('the %d and %d similarity is: %f' %(item,j,similar))\n",
    "        simtal += similar\n",
    "        ratsimtal += similar*userrating\n",
    "    if simtal ==0: return 0\n",
    "    else: return ratsimtal/simtal"
   ]
  },
  {
   "cell_type": "code",
   "execution_count": 76,
   "metadata": {},
   "outputs": [
    {
     "name": "stdout",
     "output_type": "stream",
     "text": [
      "(array([0, 1, 2, 4, 6, 7, 8, 9]),)\n",
      "[[-0.45137416  0.03084799 -0.00290108  0.01189185]\n",
      " [-0.36239706  0.02584428 -0.00189127  0.01348796]\n",
      " [-0.46879252  0.03296133 -0.00281253  0.01656192]\n",
      " [-0.01007685 -0.34024331 -0.22728592  0.14546051]\n",
      " [-0.01567036 -0.38750193  0.61197998 -0.17137451]\n",
      " [-0.01664563 -0.52000097 -0.3608907  -0.14984063]\n",
      " [-0.00474684 -0.18887149 -0.00924222  0.94228361]\n",
      " [-0.46712774  0.00389831  0.03349951 -0.02080674]\n",
      " [-0.47223188  0.02853952 -0.00504059  0.00160266]\n",
      " [-0.01591788 -0.39205093  0.55707516  0.04356321]\n",
      " [-0.0552444  -0.52034959 -0.36330956 -0.19023805]]\n",
      "the 0 and 3 similarity is: 0.341942\n",
      "the 0 and 5 similarity is: 0.124132\n",
      "the 0 and 10 similarity is: 0.116698\n",
      "[[-0.45137416  0.03084799 -0.00290108  0.01189185]\n",
      " [-0.36239706  0.02584428 -0.00189127  0.01348796]\n",
      " [-0.46879252  0.03296133 -0.00281253  0.01656192]\n",
      " [-0.01007685 -0.34024331 -0.22728592  0.14546051]\n",
      " [-0.01567036 -0.38750193  0.61197998 -0.17137451]\n",
      " [-0.01664563 -0.52000097 -0.3608907  -0.14984063]\n",
      " [-0.00474684 -0.18887149 -0.00924222  0.94228361]\n",
      " [-0.46712774  0.00389831  0.03349951 -0.02080674]\n",
      " [-0.47223188  0.02853952 -0.00504059  0.00160266]\n",
      " [-0.01591788 -0.39205093  0.55707516  0.04356321]\n",
      " [-0.0552444  -0.52034959 -0.36330956 -0.19023805]]\n",
      "the 1 and 3 similarity is: 0.345560\n",
      "the 1 and 5 similarity is: 0.126456\n",
      "the 1 and 10 similarity is: 0.118892\n",
      "[[-0.45137416  0.03084799 -0.00290108  0.01189185]\n",
      " [-0.36239706  0.02584428 -0.00189127  0.01348796]\n",
      " [-0.46879252  0.03296133 -0.00281253  0.01656192]\n",
      " [-0.01007685 -0.34024331 -0.22728592  0.14546051]\n",
      " [-0.01567036 -0.38750193  0.61197998 -0.17137451]\n",
      " [-0.01664563 -0.52000097 -0.3608907  -0.14984063]\n",
      " [-0.00474684 -0.18887149 -0.00924222  0.94228361]\n",
      " [-0.46712774  0.00389831  0.03349951 -0.02080674]\n",
      " [-0.47223188  0.02853952 -0.00504059  0.00160266]\n",
      " [-0.01591788 -0.39205093  0.55707516  0.04356321]\n",
      " [-0.0552444  -0.52034959 -0.36330956 -0.19023805]]\n",
      "the 2 and 3 similarity is: 0.345149\n",
      "the 2 and 5 similarity is: 0.126190\n",
      "the 2 and 10 similarity is: 0.118640\n",
      "[[-0.45137416  0.03084799 -0.00290108  0.01189185]\n",
      " [-0.36239706  0.02584428 -0.00189127  0.01348796]\n",
      " [-0.46879252  0.03296133 -0.00281253  0.01656192]\n",
      " [-0.01007685 -0.34024331 -0.22728592  0.14546051]\n",
      " [-0.01567036 -0.38750193  0.61197998 -0.17137451]\n",
      " [-0.01664563 -0.52000097 -0.3608907  -0.14984063]\n",
      " [-0.00474684 -0.18887149 -0.00924222  0.94228361]\n",
      " [-0.46712774  0.00389831  0.03349951 -0.02080674]\n",
      " [-0.47223188  0.02853952 -0.00504059  0.00160266]\n",
      " [-0.01591788 -0.39205093  0.55707516  0.04356321]\n",
      " [-0.0552444  -0.52034959 -0.36330956 -0.19023805]]\n",
      "the 4 and 3 similarity is: 0.450126\n",
      "the 4 and 5 similarity is: 0.528504\n",
      "the 4 and 10 similarity is: 0.544647\n",
      "[[-0.45137416  0.03084799 -0.00290108  0.01189185]\n",
      " [-0.36239706  0.02584428 -0.00189127  0.01348796]\n",
      " [-0.46879252  0.03296133 -0.00281253  0.01656192]\n",
      " [-0.01007685 -0.34024331 -0.22728592  0.14546051]\n",
      " [-0.01567036 -0.38750193  0.61197998 -0.17137451]\n",
      " [-0.01664563 -0.52000097 -0.3608907  -0.14984063]\n",
      " [-0.00474684 -0.18887149 -0.00924222  0.94228361]\n",
      " [-0.46712774  0.00389831  0.03349951 -0.02080674]\n",
      " [-0.47223188  0.02853952 -0.00504059  0.00160266]\n",
      " [-0.01591788 -0.39205093  0.55707516  0.04356321]\n",
      " [-0.0552444  -0.52034959 -0.36330956 -0.19023805]]\n",
      "the 6 and 3 similarity is: 0.923822\n",
      "the 6 and 5 similarity is: 0.724840\n",
      "the 6 and 10 similarity is: 0.710896\n",
      "[[-0.45137416  0.03084799 -0.00290108  0.01189185]\n",
      " [-0.36239706  0.02584428 -0.00189127  0.01348796]\n",
      " [-0.46879252  0.03296133 -0.00281253  0.01656192]\n",
      " [-0.01007685 -0.34024331 -0.22728592  0.14546051]\n",
      " [-0.01567036 -0.38750193  0.61197998 -0.17137451]\n",
      " [-0.01664563 -0.52000097 -0.3608907  -0.14984063]\n",
      " [-0.00474684 -0.18887149 -0.00924222  0.94228361]\n",
      " [-0.46712774  0.00389831  0.03349951 -0.02080674]\n",
      " [-0.47223188  0.02853952 -0.00504059  0.00160266]\n",
      " [-0.01591788 -0.39205093  0.55707516  0.04356321]\n",
      " [-0.0552444  -0.52034959 -0.36330956 -0.19023805]]\n",
      "the 7 and 3 similarity is: 0.319482\n",
      "the 7 and 5 similarity is: 0.118324\n",
      "the 7 and 10 similarity is: 0.113370\n",
      "[[-0.45137416  0.03084799 -0.00290108  0.01189185]\n",
      " [-0.36239706  0.02584428 -0.00189127  0.01348796]\n",
      " [-0.46879252  0.03296133 -0.00281253  0.01656192]\n",
      " [-0.01007685 -0.34024331 -0.22728592  0.14546051]\n",
      " [-0.01567036 -0.38750193  0.61197998 -0.17137451]\n",
      " [-0.01664563 -0.52000097 -0.3608907  -0.14984063]\n",
      " [-0.00474684 -0.18887149 -0.00924222  0.94228361]\n",
      " [-0.46712774  0.00389831  0.03349951 -0.02080674]\n",
      " [-0.47223188  0.02853952 -0.00504059  0.00160266]\n",
      " [-0.01591788 -0.39205093  0.55707516  0.04356321]\n",
      " [-0.0552444  -0.52034959 -0.36330956 -0.19023805]]\n",
      "the 8 and 3 similarity is: 0.334910\n",
      "the 8 and 5 similarity is: 0.119673\n",
      "the 8 and 10 similarity is: 0.112497\n",
      "[[-0.45137416  0.03084799 -0.00290108  0.01189185]\n",
      " [-0.36239706  0.02584428 -0.00189127  0.01348796]\n",
      " [-0.46879252  0.03296133 -0.00281253  0.01656192]\n",
      " [-0.01007685 -0.34024331 -0.22728592  0.14546051]\n",
      " [-0.01567036 -0.38750193  0.61197998 -0.17137451]\n",
      " [-0.01664563 -0.52000097 -0.3608907  -0.14984063]\n",
      " [-0.00474684 -0.18887149 -0.00924222  0.94228361]\n",
      " [-0.46712774  0.00389831  0.03349951 -0.02080674]\n",
      " [-0.47223188  0.02853952 -0.00504059  0.00160266]\n",
      " [-0.01591788 -0.39205093  0.55707516  0.04356321]\n",
      " [-0.0552444  -0.52034959 -0.36330956 -0.19023805]]\n",
      "the 9 and 3 similarity is: 0.566918\n",
      "the 9 and 5 similarity is: 0.590049\n",
      "the 9 and 10 similarity is: 0.602380\n"
     ]
    },
    {
     "data": {
      "text/plain": [
       "[(4, 3.3469521867021728), (9, 3.33537965732747), (6, 3.3071930278130375)]"
      ]
     },
     "execution_count": 76,
     "metadata": {},
     "output_type": "execute_result"
    }
   ],
   "source": [
    "recommend(data4,1,estmethod=svdest,simeas=pears)"
   ]
  },
  {
   "cell_type": "code",
   "execution_count": 77,
   "metadata": {},
   "outputs": [
    {
     "data": {
      "text/plain": [
       "(11, 11)"
      ]
     },
     "execution_count": 77,
     "metadata": {},
     "output_type": "execute_result"
    }
   ],
   "source": [
    "data4.shape"
   ]
  },
  {
   "cell_type": "code",
   "execution_count": 79,
   "metadata": {},
   "outputs": [],
   "source": [
    "filename = '/Users/enjlife/machine-learning/machinelearninginaction/ch14/0_5.txt'"
   ]
  },
  {
   "cell_type": "code",
   "execution_count": 90,
   "metadata": {},
   "outputs": [],
   "source": [
    "#示例：基于SVD的图像压缩\n",
    "def printmat(inmat,thresh=0.8):\n",
    "    for i in range(32):\n",
    "        for j in range(32):\n",
    "            if inmat[i,j]>thresh:\n",
    "                print(1,end='')\n",
    "            else: print(0,end='')\n",
    "        print('')\n",
    "def imgcompress(numsv=3,thresh=0.8):\n",
    "    my1=[]\n",
    "    \n",
    "    for line in open(filename).readlines():\n",
    "        newrow=[]\n",
    "        for i in range(32):\n",
    "            newrow.append(int(line[i]))\n",
    "        my1.append(newrow)\n",
    "    mymat = np.array(my1)\n",
    "    print('**********original array*************')\n",
    "    print(mymat.shape)\n",
    "    printmat(mymat,thresh)\n",
    "    U,Sigma,VT = np.linalg.svd(mymat)\n",
    "    sigrecon = np.zeros((numsv,numsv))\n",
    "    for k in range(numsv):\n",
    "        sigrecon[k,k] = Sigma[k]\n",
    "    reconmat = np.dot(np.dot(U[:,:numsv],sigrecon),VT[:numsv,:])\n",
    "    print('**********reconstructed array using %d singular values*************'% numsv)\n",
    "    print(reconmat.shape)\n",
    "    printmat(reconmat,thresh)\n",
    "    "
   ]
  },
  {
   "cell_type": "markdown",
   "metadata": {},
   "source": [
    "可以看到，只需两个奇异值就能精确地对图像实现重构，U和V.T都是32x2的矩阵，有两个奇异值，因此总数字数据为64+64+2=130，与原数字相比，几乎压缩了10倍。"
   ]
  },
  {
   "cell_type": "code",
   "execution_count": 91,
   "metadata": {},
   "outputs": [
    {
     "name": "stdout",
     "output_type": "stream",
     "text": [
      "**********original array*************\n",
      "(32, 32)\n",
      "00000000000000110000000000000000\n",
      "00000000000011111100000000000000\n",
      "00000000000111111110000000000000\n",
      "00000000001111111111000000000000\n",
      "00000000111111111111100000000000\n",
      "00000001111111111111110000000000\n",
      "00000000111111111111111000000000\n",
      "00000000111111100001111100000000\n",
      "00000001111111000001111100000000\n",
      "00000011111100000000111100000000\n",
      "00000011111100000000111110000000\n",
      "00000011111100000000011110000000\n",
      "00000011111100000000011110000000\n",
      "00000001111110000000001111000000\n",
      "00000011111110000000001111000000\n",
      "00000011111100000000001111000000\n",
      "00000001111100000000001111000000\n",
      "00000011111100000000001111000000\n",
      "00000001111100000000001111000000\n",
      "00000001111100000000011111000000\n",
      "00000000111110000000001111100000\n",
      "00000000111110000000001111100000\n",
      "00000000111110000000001111100000\n",
      "00000000111110000000011111000000\n",
      "00000000111110000000111111000000\n",
      "00000000111111000001111110000000\n",
      "00000000011111111111111110000000\n",
      "00000000001111111111111110000000\n",
      "00000000001111111111111110000000\n",
      "00000000000111111111111000000000\n",
      "00000000000011111111110000000000\n",
      "00000000000000111111000000000000\n",
      "**********reconstructed array using 2 singular values*************\n",
      "(32, 32)\n",
      "00000000000000000000000000000000\n",
      "00000000000000000000000000000000\n",
      "00000000000001111100000000000000\n",
      "00000000000011111111000000000000\n",
      "00000000000111111111100000000000\n",
      "00000000001111111111110000000000\n",
      "00000000001111111111110000000000\n",
      "00000000011110000000001000000000\n",
      "00000000111100000000001100000000\n",
      "00000000111100000000001110000000\n",
      "00000000111100000000001110000000\n",
      "00000000111100000000001110000000\n",
      "00000000111100000000001110000000\n",
      "00000000111100000000001110000000\n",
      "00000000111100000000001110000000\n",
      "00000000111100000000001110000000\n",
      "00000000111100000000001110000000\n",
      "00000000111100000000001110000000\n",
      "00000000111100000000001110000000\n",
      "00000000111100000000001110000000\n",
      "00000000111100000000001110000000\n",
      "00000000111100000000001110000000\n",
      "00000000111100000000001110000000\n",
      "00000000111100000000001110000000\n",
      "00000000111100000000001110000000\n",
      "00000000111100000000001100000000\n",
      "00000000001111111111111000000000\n",
      "00000000001111111111110000000000\n",
      "00000000001111111111110000000000\n",
      "00000000000011111111100000000000\n",
      "00000000000011111111000000000000\n",
      "00000000000000000000000000000000\n"
     ]
    }
   ],
   "source": [
    "imgcompress(2)"
   ]
  },
  {
   "cell_type": "code",
   "execution_count": null,
   "metadata": {},
   "outputs": [],
   "source": []
  },
  {
   "cell_type": "code",
   "execution_count": null,
   "metadata": {},
   "outputs": [],
   "source": []
  },
  {
   "cell_type": "code",
   "execution_count": null,
   "metadata": {},
   "outputs": [],
   "source": []
  }
 ],
 "metadata": {
  "kernelspec": {
   "display_name": "Python 3",
   "language": "python",
   "name": "python3"
  },
  "language_info": {
   "codemirror_mode": {
    "name": "ipython",
    "version": 3
   },
   "file_extension": ".py",
   "mimetype": "text/x-python",
   "name": "python",
   "nbconvert_exporter": "python",
   "pygments_lexer": "ipython3",
   "version": "3.6.4"
  }
 },
 "nbformat": 4,
 "nbformat_minor": 2
}
