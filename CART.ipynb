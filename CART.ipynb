{
 "cells": [
  {
   "cell_type": "code",
   "execution_count": 33,
   "metadata": {},
   "outputs": [],
   "source": [
    "import numpy as np\n",
    "import matplotlib\n",
    "import matplotlib.pyplot as plt\n",
    "from matplotlib.backends.backend_tkagg import FigureCanvasTkAgg\n",
    "from matplotlib.figure import Figure"
   ]
  },
  {
   "cell_type": "code",
   "execution_count": null,
   "metadata": {},
   "outputs": [],
   "source": []
  },
  {
   "cell_type": "code",
   "execution_count": 3,
   "metadata": {},
   "outputs": [],
   "source": [
    "filename = '/Users/enjlife/machine-learning/machinelearninginaction/ch09/ex00.txt'\n",
    "filename1 = '/Users/enjlife/machine-learning/machinelearninginaction/ch09/ex0.txt'\n",
    "filename2 = '/Users/enjlife/machine-learning/machinelearninginaction/ch09/ex2.txt'\n",
    "filename3 = '/Users/enjlife/machine-learning/machinelearninginaction/ch09/ex2test.txt'\n",
    "filename4 = '/Users/enjlife/machine-learning/machinelearninginaction/ch09/exp2.txt'\n",
    "filename5 = '/Users/enjlife/machine-learning/machinelearninginaction/ch09/bikeSpeedVsIq_train.txt'\n",
    "filename6 = '/Users/enjlife/machine-learning/machinelearninginaction/ch09/bikeSpeedVsIq_test.txt'\n",
    "filename7 = '/Users/enjlife/machine-learning/machinelearninginaction/ch09/sine.txt'"
   ]
  },
  {
   "cell_type": "code",
   "execution_count": 5,
   "metadata": {},
   "outputs": [],
   "source": [
    "def loaddata(filename):\n",
    "    data = []\n",
    "    with open(filename) as fr:\n",
    "        for line in fr.readlines():\n",
    "            cur = line.strip().split()\n",
    "            fltline = list(map(float,cur))\n",
    "            data.append(fltline)\n",
    "        return np.array(data)"
   ]
  },
  {
   "cell_type": "code",
   "execution_count": 8,
   "metadata": {},
   "outputs": [],
   "source": [
    "def binsplit(data,feature,value):#根据特征和特征值进行切分数据集\n",
    "    mat0 = data[np.nonzero(data[:,feature] > value)[0],:]\n",
    "    mat1 = data[np.nonzero(data[:,feature] <= value)[0],:]\n",
    "    return mat0,mat1\n",
    "def createtree(data,leaftype=regleaf,errtype=regerr,ops=(1,4)):\n",
    "    feat,val = bestsplit(data,leaftype,errtype,ops)#获取最佳切分特征和特征值，如果没有，则返回None和叶子节点\n",
    "    if feat == None: return val\n",
    "    tree = {}\n",
    "    tree['spind'] = feat\n",
    "    tree['spval'] = val\n",
    "    lset,rset = binsplit(data,feat,val)\n",
    "    tree['left'] = createtree(lset,leaftype,errtype,ops)\n",
    "    tree['right'] = createtree(rset,leaftype,errtype,ops)\n",
    "    return tree\n",
    "    "
   ]
  },
  {
   "cell_type": "code",
   "execution_count": 7,
   "metadata": {},
   "outputs": [],
   "source": [
    "def regleaf(data):\n",
    "    return np.mean(data[:,-1])#若不宜再划分，直接返回目标变量的均值作为估计\n",
    "def regerr(data):\n",
    "    return np.var(data[:,-1])*data.shape[0]#均方误差"
   ]
  },
  {
   "cell_type": "code",
   "execution_count": 9,
   "metadata": {},
   "outputs": [],
   "source": [
    "def bestsplit(data,leaftype=regleaf,errtype=regerr,ops=(1,4)):\n",
    "    tols=ops[0]\n",
    "    toln=ops[1]\n",
    "    #print(set(data[:,-1].T.tolist()))\n",
    "    if len(set(data[:,-1].T.tolist()))==1:\n",
    "        return None,leaftype(data)\n",
    "    m,n = data.shape\n",
    "    S = errtype(data)\n",
    "    bests = float('inf')\n",
    "    bestidx = 0\n",
    "    bestval = 0\n",
    "    for idx in range(n-1):\n",
    "        for val in set(data[:,idx]):\n",
    "            mat0,mat1 = binsplit(data,idx,val)\n",
    "            if mat0.shape[0]<toln or mat1.shape[0]<toln :\n",
    "                continue\n",
    "            news = errtype(mat0)+errtype(mat1)\n",
    "            if news<bests:#这里初始beats改为以整理均值计算得到的方差比较好？\n",
    "                bestidx = idx\n",
    "                bestval = val\n",
    "                bests = news\n",
    "    if (S-bests)<tols:#一种预剪枝的方式，当方差减小过小时或者没有减小，同样直接返回叶子节点\n",
    "        return None,leaftype(data)\n",
    "    mat0,mat1 = binsplit(data,bestidx,bestval)\n",
    "    if (mat0.shape[0]<toln) or (mat1.shape[0]<toln):\n",
    "        return None,leaftype(data)\n",
    "    return bestidx,bestval         "
   ]
  },
  {
   "cell_type": "code",
   "execution_count": 81,
   "metadata": {},
   "outputs": [],
   "source": [
    "data = loaddata(filename)\n",
    "data1 = loaddata(filename1)\n",
    "data2 = loaddata(filename2)\n",
    "test = loaddata(filename3)\n",
    "data3 = loaddata(filename4)"
   ]
  },
  {
   "cell_type": "code",
   "execution_count": 12,
   "metadata": {},
   "outputs": [],
   "source": [
    "mdata = loaddata(filename5)\n",
    "mtest = loaddata(filename6)\n",
    "tkdata = loaddata(filename7)"
   ]
  },
  {
   "cell_type": "code",
   "execution_count": 52,
   "metadata": {},
   "outputs": [
    {
     "data": {
      "text/plain": [
       "{'left': {'left': {'left': 3.9871632,\n",
       "   'right': 2.9836209534883724,\n",
       "   'spind': 1,\n",
       "   'spval': 0.797583},\n",
       "  'right': 1.980035071428571,\n",
       "  'spind': 1,\n",
       "  'spval': 0.582002},\n",
       " 'right': {'left': 1.0289583666666666,\n",
       "  'right': -0.023838155555555553,\n",
       "  'spind': 1,\n",
       "  'spval': 0.197834},\n",
       " 'spind': 1,\n",
       " 'spval': 0.39435}"
      ]
     },
     "execution_count": 52,
     "metadata": {},
     "output_type": "execute_result"
    }
   ],
   "source": [
    "createtree(data1)"
   ]
  },
  {
   "cell_type": "code",
   "execution_count": 58,
   "metadata": {},
   "outputs": [
    {
     "data": {
      "image/png": "[encoded data removed]",
      "text/plain": [
       "<matplotlib.figure.Figure at 0x11585eb70>"
      ]
     },
     "metadata": {},
     "output_type": "display_data"
    }
   ],
   "source": [
    "plt.figure()\n",
    "plt.scatter(data1[:,1],data1[:,2])\n",
    "plt.show()"
   ]
  },
  {
   "cell_type": "markdown",
   "metadata": {},
   "source": [
    "预剪枝，通过设定ops参数，误差变化和子集个数来去除臃肿的枝叶，这种方式对于参数调节十分敏感。  \n",
    "后剪枝，通过测试集来判断生成的叶节点合并能否降低测试误差"
   ]
  },
  {
   "cell_type": "code",
   "execution_count": 13,
   "metadata": {},
   "outputs": [],
   "source": [
    "def istree(obj):#判断是否为叶子节点\n",
    "    return (type(obj).__name__=='dict')"
   ]
  },
  {
   "cell_type": "code",
   "execution_count": 14,
   "metadata": {},
   "outputs": [],
   "source": [
    "def getmean(tree):\n",
    "    if istree(tree['right']): tree['right'] = getmean(tree['right'])\n",
    "    if istree(tree['left']): tree['left'] = getmean(tree['left'])\n",
    "    return (tree['right']+tree['left'])/2.0"
   ]
  },
  {
   "cell_type": "code",
   "execution_count": 15,
   "metadata": {},
   "outputs": [],
   "source": [
    "def prune(tree,testdata):\n",
    "    if testdata.shape[0]==0: return getmean(tree)#如果没有测试数据，做塌陷处理\n",
    "    if (istree(tree['right']) or istree(tree['left'])):\n",
    "        lset,rset = binsplit(testdata,tree['spind'],tree['spval'])\n",
    "    if istree(tree['left']): tree['left'] = prune(tree['left'],lset)#有一颗istree则迭代下去直到叶子节点\n",
    "    if istree(tree['right']): tree['right'] = prune(tree['right'],rset)\n",
    "    if not istree(tree['left']) and not istree(tree['right']):\n",
    "        lset,rset = binsplit(testdata,tree['spind'],tree['spval'])\n",
    "        errornome = np.sum(np.square(lset[:,-1]-tree['left']))+np.sum(np.square(rset[:,-1]-tree['right']))#左子叶和右子叶分别是返回的均值，这里计算均方误差\n",
    "        treemean = (tree['left']+tree['right'])/2.0\n",
    "        errorme = np.sum(np.square(testdata[:,-1]-treemean))#计算merge后的均方误差\n",
    "        if errorme < errornome:\n",
    "            print('merging')\n",
    "            return treemean#merge后返回一个均值估计\n",
    "        else: return tree\n",
    "    else: return tree"
   ]
  },
  {
   "cell_type": "code",
   "execution_count": 69,
   "metadata": {},
   "outputs": [],
   "source": [
    "tree = createtree(data2,ops=(0,1))"
   ]
  },
  {
   "cell_type": "code",
   "execution_count": 74,
   "metadata": {},
   "outputs": [],
   "source": [
    "tree1 = prune(tree,test)"
   ]
  },
  {
   "cell_type": "code",
   "execution_count": 89,
   "metadata": {},
   "outputs": [
    {
     "data": {
      "text/plain": [
       "(200, 2)"
      ]
     },
     "execution_count": 89,
     "metadata": {},
     "output_type": "execute_result"
    }
   ],
   "source": [
    "data3.shape"
   ]
  },
  {
   "cell_type": "markdown",
   "metadata": {},
   "source": [
    "生成模型树"
   ]
  },
  {
   "cell_type": "code",
   "execution_count": 16,
   "metadata": {},
   "outputs": [],
   "source": [
    "def linear(data):\n",
    "    m,n = data.shape\n",
    "    x = np.ones((m,n))\n",
    "    y = np.ones((m,1))\n",
    "    x[:,1:n] = data[:,0:n-1]#这里增加了一列1，相当于常数项\n",
    "    y = data[:,-1]\n",
    "    xtx = np.dot(x.T,x)\n",
    "    #print(xtx.shape)\n",
    "    if np.linalg.det(xtx)==0.0:\n",
    "        raise NameError('cannot do inverse, try increase the second value of ops')\n",
    "    ws = np.dot(np.linalg.inv(xtx),np.dot(x.T,y))\n",
    "    return ws,x,y\n",
    "def modelleaf(data):\n",
    "    ws,x,y = linear(data)\n",
    "    return ws\n",
    "def modelerr(data):\n",
    "    ws,x,y = linear(data)\n",
    "    yhat = np.dot(x,ws)\n",
    "    error = np.sum(np.square(y-yhat))\n",
    "    return error"
   ]
  },
  {
   "cell_type": "code",
   "execution_count": 100,
   "metadata": {},
   "outputs": [],
   "source": [
    "tree = createtree(data3,modelleaf,modelerr,(1,10))"
   ]
  },
  {
   "cell_type": "code",
   "execution_count": 92,
   "metadata": {},
   "outputs": [
    {
     "data": {
      "text/plain": [
       "{'left': array([1.69855694e-03, 1.19647739e+01]),\n",
       " 'right': array([3.46877936, 1.18521743]),\n",
       " 'spind': 0,\n",
       " 'spval': 0.285477}"
      ]
     },
     "execution_count": 92,
     "metadata": {},
     "output_type": "execute_result"
    }
   ],
   "source": [
    "tree"
   ]
  },
  {
   "cell_type": "code",
   "execution_count": 17,
   "metadata": {},
   "outputs": [],
   "source": [
    "def regeval(model,data):\n",
    "    return float(model)\n",
    "def modeltreeeval(model,data):#这里每次循环执行一条数据\n",
    "    n = data.shape[1]\n",
    "    x = np.ones((1,n+1))\n",
    "    x[:,1:n+1] = data\n",
    "    return np.dot(x,model).astype(float)\n",
    "def treefore(tree,data,modeleval=regeval):\n",
    "    if not istree: return modeleval(tree,data)\n",
    "    if data[:,tree['spind']]>tree['spval']:\n",
    "        if istree(tree['left']):\n",
    "            return treefore(tree['left'],data,modeleval)\n",
    "        else: return modeleval(tree['left'],data)\n",
    "    else:\n",
    "        if istree(tree['right']):\n",
    "            return treefore(tree['right'],data,modeleval)\n",
    "        else: return modeleval(tree['right'],data)\n",
    "def createfore(tree,testdata,modeleval=regeval):\n",
    "    m = testdata.shape[0]\n",
    "    yhat = np.zeros((m,1))\n",
    "    for i in range(m):\n",
    "        yhat[i,:] = treefore(tree,np.expand_dims(testdata[i],1),modeleval)\n",
    "    return yhat"
   ]
  },
  {
   "cell_type": "code",
   "execution_count": 166,
   "metadata": {},
   "outputs": [
    {
     "data": {
      "image/png": "[encoded data removed]",
      "text/plain": [
       "<matplotlib.figure.Figure at 0x115fb3198>"
      ]
     },
     "metadata": {},
     "output_type": "display_data"
    }
   ],
   "source": [
    "#print('{0}{1}'.format(mdata.shape,mtest))\n",
    "plt.figure()\n",
    "plt.scatter(mdata[:,0],mdata[:,1])\n",
    "plt.show()"
   ]
  },
  {
   "cell_type": "markdown",
   "metadata": {},
   "source": [
    "**比较三种模型**"
   ]
  },
  {
   "cell_type": "code",
   "execution_count": 182,
   "metadata": {},
   "outputs": [
    {
     "name": "stdout",
     "output_type": "stream",
     "text": [
      "0.9640852318222141\n"
     ]
    }
   ],
   "source": [
    "#回归树\n",
    "tree1 = createtree(mdata,ops=(1.0,10))\n",
    "yhat1 = createfore(tree1,np.expand_dims(mtest[:,0],1),modeleval=regeval)\n",
    "cor1 = np.corrcoef(yhat1,mtest[:,1],rowvar=0)[0,1]\n",
    "print(cor1)"
   ]
  },
  {
   "cell_type": "code",
   "execution_count": 185,
   "metadata": {},
   "outputs": [
    {
     "name": "stdout",
     "output_type": "stream",
     "text": [
      "0.9760412191380623\n"
     ]
    }
   ],
   "source": [
    "#模型树\n",
    "tree2 = createtree(mdata,modelleaf,modelerr,ops=(1,20))\n",
    "yhat2 = createfore(tree2,np.expand_dims(mtest[:,0],1),modeleval=modeltreeeval)\n",
    "cor2 = np.corrcoef(yhat2,mtest[:,1],rowvar=0)[0,1]\n",
    "print(cor2)"
   ]
  },
  {
   "cell_type": "code",
   "execution_count": 194,
   "metadata": {},
   "outputs": [
    {
     "name": "stdout",
     "output_type": "stream",
     "text": [
      "0.9434684235674758\n"
     ]
    }
   ],
   "source": [
    "#线性回归\n",
    "ws,x,y = linear(mdata)\n",
    "m = x.shape[0]\n",
    "yhat3 = np.zeros((m,1))\n",
    "for i in range(m):\n",
    "    yhat3[i,:] = mtest[i,0]*ws[1]+ws[0]\n",
    "cor3 = np.corrcoef(yhat3,mtest[:,1],rowvar=0)[0,1]\n",
    "print(cor3)"
   ]
  },
  {
   "cell_type": "code",
   "execution_count": 18,
   "metadata": {},
   "outputs": [],
   "source": [
    "import tkinter as tk"
   ]
  },
  {
   "cell_type": "code",
   "execution_count": 200,
   "metadata": {},
   "outputs": [],
   "source": [
    "#测试学习tkinter\n",
    "root = tk.Tk()\n",
    "root.title('new')\n",
    "thelabel = tk.Label(root,text='tiyanyixia')\n",
    "thelabel.pack()\n",
    "root.mainloop()"
   ]
  },
  {
   "cell_type": "code",
   "execution_count": 49,
   "metadata": {},
   "outputs": [
    {
     "name": "stdout",
     "output_type": "stream",
     "text": [
      "20\n",
      "10\n",
      "20\n",
      "20\n",
      "10\n",
      "5\n",
      "5\n",
      "10\n",
      "10\n",
      "20\n",
      "20\n",
      "20\n",
      "40\n",
      "150\n"
     ]
    },
    {
     "name": "stderr",
     "output_type": "stream",
     "text": [
      "Exception in Tkinter callback\n",
      "Traceback (most recent call last):\n",
      "  File \"/anaconda3/lib/python3.6/tkinter/__init__.py\", line 1699, in __call__\n",
      "    return self.func(*args)\n",
      "  File \"<ipython-input-49-3a69a08ebc80>\", line 35, in drawNewtree\n",
      "    reDraw(tols,toln)\n",
      "  File \"<ipython-input-49-3a69a08ebc80>\", line 11, in reDraw\n",
      "    yhat = createfore(mytree,reDraw.testdat,modeltreeeval)\n",
      "  File \"<ipython-input-17-c80b112affaa>\", line 22, in createfore\n",
      "    yhat[i,:] = treefore(tree,np.expand_dims(testdata[i],1),modeleval)\n",
      "  File \"<ipython-input-17-c80b112affaa>\", line 10, in treefore\n",
      "    if data[:,tree['spind']]>tree['spval']:\n",
      "IndexError: only integers, slices (`:`), ellipsis (`...`), numpy.newaxis (`None`) and integer or boolean arrays are valid indices\n"
     ]
    },
    {
     "name": "stdout",
     "output_type": "stream",
     "text": [
      "10\n",
      "5\n",
      "1\n",
      "50\n",
      "40\n",
      "30\n",
      "10\n",
      "10\n",
      "50\n"
     ]
    }
   ],
   "source": [
    "def reDraw(tols,toln):\n",
    "    reDraw.f = Figure(figsize=(5,4),dpi=100)\n",
    "    reDraw.canvas = FigureCanvasTkAgg(reDraw.f,master=root)#将figure显示在tkinter上\n",
    "    #reDraw.canvas.draw()# draw the picture\n",
    "    reDraw.canvas.get_tk_widget().grid(row=0,columnspan=3)\n",
    "    reDraw.f.clf()\n",
    "    reDraw.a = reDraw.f.add_subplot(111)\n",
    "    if chkvar.get():\n",
    "        if toln<2: toln=2\n",
    "        mytree = createtree(reDraw.rawdat,modelleaf,modelerr,(tols,toln))\n",
    "        yhat = createfore(mytree,reDraw.testdat,modeltreeeval)\n",
    "    else:\n",
    "        mytree = createtree(reDraw.rawdat,ops=(tols,toln))\n",
    "        yhat = createfore(mytree,reDraw.testdat)\n",
    "    reDraw.a.scatter(reDraw.rawdat[:,0],reDraw.rawdat[:,1],s=5)\n",
    "    reDraw.a.plot(reDraw.testdat,yhat,linewidth=2.0)\n",
    "    reDraw.canvas.draw()\n",
    "def getinputs():\n",
    "    #print(int(tolnentry.get()))\n",
    "    try: toln = int(float(tolnentry.get()))\n",
    "    except:\n",
    "        toln = 10\n",
    "        print('enter integer for toln')\n",
    "        tolnentry.delete(0,END)\n",
    "        tolnentry.insert(0,'10')\n",
    "    try: tols = float(tolsentry.get())\n",
    "    except:\n",
    "        tols = 1.0\n",
    "        print('enter float for tols')\n",
    "        tolsentry.delete(0,END)\n",
    "        tolsentry.insert(0,'1.0')\n",
    "    return toln,tols\n",
    "def drawNewtree():\n",
    "    toln,tols = getinputs()\n",
    "    reDraw(tols,toln)\n",
    "root = tk.Tk()\n",
    "tk.Label(root,text='Plot Place Holder').grid(row=0,columnspan=3)\n",
    "tk.Label(root,text='toln').grid(row=1,column=0)\n",
    "tolnentry = tk.Entry(root)\n",
    "tolnentry.grid(row=1,column=1)\n",
    "tolnentry.insert(0,'10')\n",
    "tk.Label(root,text='tols').grid(row=2,column=0)\n",
    "tolsentry = tk.Entry(root)\n",
    "tolsentry.grid(row=2,column=1)\n",
    "tolsentry.insert(0,'1.0')\n",
    "tk.Button(root,text='ReDraw',command=drawNewtree).grid(row=1,column=2,rowspan=3)#点击ReDraw按钮，画新树\n",
    "chkvar = tk.IntVar()\n",
    "chkbtn = tk.Checkbutton(root,text='Model Tree',variable=chkvar)\n",
    "chkbtn.grid(row=3,column=0,columnspan=2)\n",
    "reDraw.rawdat = tkdata\n",
    "reDraw.testdat = np.linspace(np.min(reDraw.rawdat[:,0]),np.max(reDraw.rawdat[:,0]),int((np.max(reDraw.rawdat[:,0])-np.min(reDraw.rawdat[:,0]))/0.01))\n",
    "reDraw.testdat = np.expand_dims(reDraw.testdat,1)\n",
    "reDraw(1.0,10)\n",
    "root.mainloop()"
   ]
  },
  {
   "cell_type": "code",
   "execution_count": 45,
   "metadata": {},
   "outputs": [
    {
     "name": "stdout",
     "output_type": "stream",
     "text": [
      "(3,)\n"
     ]
    },
    {
     "data": {
      "text/plain": [
       "(3,)"
      ]
     },
     "execution_count": 45,
     "metadata": {},
     "output_type": "execute_result"
    }
   ],
   "source": [
    "a = np.array([1,2,3])\n",
    "print(a.shape)\n",
    "b = np.transpose(a)\n",
    "b.shape"
   ]
  },
  {
   "cell_type": "code",
   "execution_count": 40,
   "metadata": {},
   "outputs": [
    {
     "ename": "NameError",
     "evalue": "name 'testdat' is not defined",
     "output_type": "error",
     "traceback": [
      "\u001b[0;31m---------------------------------------------------------------------------\u001b[0m",
      "\u001b[0;31mNameError\u001b[0m                                 Traceback (most recent call last)",
      "\u001b[0;32m<ipython-input-40-bfa2fd1ed713>\u001b[0m in \u001b[0;36m<module>\u001b[0;34m()\u001b[0m\n\u001b[0;32m----> 1\u001b[0;31m \u001b[0mtestdat\u001b[0m\u001b[0;34m\u001b[0m\u001b[0m\n\u001b[0m",
      "\u001b[0;31mNameError\u001b[0m: name 'testdat' is not defined"
     ]
    }
   ],
   "source": [
    "testdat"
   ]
  },
  {
   "cell_type": "code",
   "execution_count": null,
   "metadata": {},
   "outputs": [],
   "source": []
  },
  {
   "cell_type": "code",
   "execution_count": null,
   "metadata": {},
   "outputs": [],
   "source": []
  },
  {
   "cell_type": "code",
   "execution_count": null,
   "metadata": {},
   "outputs": [],
   "source": []
  },
  {
   "cell_type": "code",
   "execution_count": null,
   "metadata": {},
   "outputs": [],
   "source": []
  },
  {
   "cell_type": "code",
   "execution_count": null,
   "metadata": {},
   "outputs": [],
   "source": []
  }
 ],
 "metadata": {
  "kernelspec": {
   "display_name": "Python 3",
   "language": "python",
   "name": "python3"
  },
  "language_info": {
   "codemirror_mode": {
    "name": "ipython",
    "version": 3
   },
   "file_extension": ".py",
   "mimetype": "text/x-python",
   "name": "python",
   "nbconvert_exporter": "python",
   "pygments_lexer": "ipython3",
   "version": "3.6.4"
  }
 },
 "nbformat": 4,
 "nbformat_minor": 2
}
