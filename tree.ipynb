{
 "cells": [
  {
   "cell_type": "code",
   "execution_count": 1,
   "metadata": {},
   "outputs": [],
   "source": [
    "import math\n",
    "def non(dataset):\n",
    "    num = len(dataset)\n",
    "    label = {}\n",
    "    for data in dataset:\n",
    "        cur = data[-1]# 结果标签\n",
    "        if cur not in label.keys():\n",
    "            label[cur] = 0\n",
    "        label[cur] += 1\n",
    "    nonent=0\n",
    "    for key in label.keys():\n",
    "        prob = float(label[key])/num\n",
    "        nonent -= prob*math.log(prob,2)\n",
    "    return nonent"
   ]
  },
  {
   "cell_type": "code",
   "execution_count": 53,
   "metadata": {},
   "outputs": [],
   "source": [
    "def dataset():\n",
    "    dataset = [[1,1,'yes'],[1,1,'yes'],[1,0,'no'],[0,1,'no'],[0,1,'no']]\n",
    "    labels = ['no surfacing','flippers']\n",
    "    return dataset,labels\n"
   ]
  },
  {
   "cell_type": "code",
   "execution_count": 118,
   "metadata": {},
   "outputs": [
    {
     "data": {
      "text/plain": [
       "0.9709505944546686"
      ]
     },
     "execution_count": 118,
     "metadata": {},
     "output_type": "execute_result"
    }
   ],
   "source": [
    "mydat,labels = dataset()\n",
    "non(mydat)"
   ]
  },
  {
   "cell_type": "code",
   "execution_count": 6,
   "metadata": {},
   "outputs": [
    {
     "data": {
      "text/plain": [
       "1.3709505944546687"
      ]
     },
     "execution_count": 6,
     "metadata": {},
     "output_type": "execute_result"
    }
   ],
   "source": [
    "mydat[0][-1] = 'maybe'\n",
    "non(mydat)"
   ]
  },
  {
   "cell_type": "code",
   "execution_count": 20,
   "metadata": {},
   "outputs": [],
   "source": [
    "#按给定特征划分数据集\n",
    "def splitdata(dataset,axis,value):\n",
    "    ret = []\n",
    "    for data in dataset:\n",
    "        if data[axis]==value:\n",
    "            reduceddata = data[:axis]\n",
    "            reduceddata.extend(data[axis+1:])\n",
    "            ret.append(reduceddata)\n",
    "    return ret"
   ]
  },
  {
   "cell_type": "code",
   "execution_count": 21,
   "metadata": {},
   "outputs": [
    {
     "data": {
      "text/plain": [
       "[[1, 'yes'], [1, 'yes'], [0, 'no']]"
      ]
     },
     "execution_count": 21,
     "metadata": {},
     "output_type": "execute_result"
    }
   ],
   "source": [
    "splitdata(mydat,0,1)"
   ]
  },
  {
   "cell_type": "code",
   "execution_count": null,
   "metadata": {},
   "outputs": [],
   "source": [
    "#很神奇的一个列表处理方式\n",
    "def splitdata(dataset,axis,value):\n",
    "    for data in dataset:\n",
    "        if data[axis]==value:\n",
    "            reduceddata = data[:axis]\n",
    "            reduceddata.extend(data[axis+1:])\n",
    "            dataset.append(reduceddata)\n",
    "    return dataset"
   ]
  },
  {
   "cell_type": "code",
   "execution_count": 25,
   "metadata": {},
   "outputs": [],
   "source": [
    "def cfeature(dataset):\n",
    "    numf = len(dataset[0])-1# 最后一个元素是当前实例的类别标签\n",
    "    baseentropy = non(dataset)\n",
    "    bestgain = 0.0\n",
    "    feature = -1\n",
    "    for i in range(numf):\n",
    "        featlist = [example[i] for example in dataset]\n",
    "        va = set(featlist) # 提取特征\n",
    "        newentropy = 0.0\n",
    "        for value in va:\n",
    "            subdata = splitdata(dataset,i,value)\n",
    "            prob = len(subdata)/float(len(dataset))# 每个特征的value求概率\n",
    "            newentropy += prob*non(subdata)\n",
    "            infogain = baseentropy - newentropy\n",
    "            if (infogain > bestgain): # 感觉这里代码有点冗余\n",
    "                bestgain = infogain\n",
    "                feature = i\n",
    "    return feature\n",
    "        \n",
    "        \n",
    "    "
   ]
  },
  {
   "cell_type": "code",
   "execution_count": 27,
   "metadata": {},
   "outputs": [],
   "source": [
    "import operator\n",
    "def majorcnt(classlist):\n",
    "    count={}\n",
    "    for vote in classlist:\n",
    "        if vote not in count.keys():\n",
    "            count[vote]=0\n",
    "    sort = sorted(count.items(),key=operator.itemgetter(1),reverse=True)\n",
    "    return sort\n",
    "    "
   ]
  },
  {
   "cell_type": "code",
   "execution_count": 54,
   "metadata": {},
   "outputs": [],
   "source": [
    "# 创建树的函数\n",
    "def createtree(dataset,labels):\n",
    "    classlist = [example[-1] for example in dataset]\n",
    "    if classlist.count(classlist[0]) == len(classlist):\n",
    "        return classlist[0]\n",
    "    if len(dataset[0]) == 1:\n",
    "        return majorcnt(classlist)\n",
    "    feature = cfeature(dataset)\n",
    "    print(feature)\n",
    "    print(labels)\n",
    "    featlabel = labels[feature]\n",
    "    mytree = {featlabel:{}}\n",
    "    del(labels[feature])\n",
    "    value = [example[feature] for example in dataset]\n",
    "    va = set(value)\n",
    "    for val in va:\n",
    "        sublabels = labels[:]\n",
    "        mytree[featlabel][val] = createtree(splitdata(dataset,feature,val),sublabels)\n",
    "    return mytree"
   ]
  },
  {
   "cell_type": "code",
   "execution_count": 70,
   "metadata": {},
   "outputs": [
    {
     "name": "stdout",
     "output_type": "stream",
     "text": [
      "0\n",
      "['no surfacing', 'flippers']\n",
      "0\n",
      "['flippers']\n"
     ]
    }
   ],
   "source": [
    "mytree = createtree(mydat,labels)"
   ]
  },
  {
   "cell_type": "code",
   "execution_count": 90,
   "metadata": {},
   "outputs": [],
   "source": [
    "#绘制树\n",
    "import matplotlib.pyplot as plt\n",
    "\n",
    "decision = dict(boxstyle='sawtooth',fc='0.8')# 描绘边框等的属性\n",
    "leaf = dict(boxstyle='round4',fc='0.8')\n",
    "arrow_args = dict(arrowstyle='<-')\n",
    "def plotnode(txt,cpt,ppt,ntype):\n",
    "    createPlot.ax1.annotate(txt,xy=ppt,xycoords='axes fraction',\n",
    "                            xytext=cpt,textcoords='axes fraction',\n",
    "                            va='center',ha='center',bbox=ntype,arrowprops=arrow_args)\n",
    "def createPlot():\n",
    "    fig = plt.figure(1,facecolor='white')\n",
    "    fig.clf()\n",
    "    createPlot.ax1 = plt.subplot(111,frameon=False)#ax1相当于赋予一个属性\n",
    "    plotnode('decision',(0.5,0.1),(0.1,0.5),decision)\n",
    "    plotnode('leaf',(0.8,0.1),(0.3,0.8),leaf)\n",
    "    plt.show()\n",
    "    "
   ]
  },
  {
   "cell_type": "code",
   "execution_count": 91,
   "metadata": {},
   "outputs": [
    {
     "data": {
      "image/png": "[encoded data removed]",
      "text/plain": [
       "<matplotlib.figure.Figure at 0x11201de10>"
      ]
     },
     "metadata": {},
     "output_type": "display_data"
    }
   ],
   "source": [
    "createPlot()"
   ]
  },
  {
   "cell_type": "code",
   "execution_count": 86,
   "metadata": {},
   "outputs": [],
   "source": [
    "#获取叶节点的数目和树的层数\n",
    "def getnum(mytree):\n",
    "    num = 0\n",
    "    first = list(mytree.keys())[0]\n",
    "    seconddict = mytree[first]\n",
    "    for key in seconddict.keys():\n",
    "        if type(seconddict[key]).__name__=='dict':\n",
    "            num += getnum(seconddict[key])\n",
    "        else: num +=1\n",
    "    return num\n",
    "def getdepth(mytree):\n",
    "    maxdepth = 0\n",
    "    first = list(mytree.keys())[0]\n",
    "    seconddict = mytree[first]\n",
    "    for key in seconddict.keys():\n",
    "        if type(seconddict[key]).__name__=='dict':\n",
    "            thisdepth = 1 + getdepth(seconddict[key])\n",
    "        else: thisdepth = 1\n",
    "        if thisdepth > maxdepth: maxdepth = thisdepth\n",
    "    return maxdepth"
   ]
  },
  {
   "cell_type": "code",
   "execution_count": 87,
   "metadata": {},
   "outputs": [
    {
     "data": {
      "text/plain": [
       "2"
      ]
     },
     "execution_count": 87,
     "metadata": {},
     "output_type": "execute_result"
    }
   ],
   "source": [
    "getdepth(mytree)"
   ]
  },
  {
   "cell_type": "code",
   "execution_count": 113,
   "metadata": {},
   "outputs": [],
   "source": [
    "# plottree\n",
    "def plottext(cpt,ppt,txt):\n",
    "    xmid = (ppt[0]-cpt[0])/2.0 + cpt[0] #箭头上文字位置=子节点+1/2距离\n",
    "    ymid = (ppt[1]-cpt[1])/2.0 + cpt[1]\n",
    "    createPlot.ax1.text(xmid,ymid,txt)\n",
    "def plottree(mytree,ppt,nodetxt):\n",
    "    numl = getnum(mytree)\n",
    "    numd = getdepth(mytree)\n",
    "    first = list(mytree.keys())[0]\n",
    "    cpt = (plottree.xOff + (1.0+float(numl))/2.0/plottree.totalW,plottree.yOff)\n",
    "    plottext(cpt,ppt,nodetxt)\n",
    "#     print(cpt)\n",
    "#     print(ppt)\n",
    "    plotnode(first,cpt,ppt,decision)\n",
    "    seconddict = mytree[first]\n",
    "    plottree.yOff = plottree.yOff-1.0/plottree.totalD\n",
    "    for key in seconddict.keys():\n",
    "        if type(seconddict[key]).__name__=='dict':\n",
    "            plottree(seconddict[key],cpt,str(key))\n",
    "        else:\n",
    "            plottree.xOff = plottree.xOff+1.0/plottree.totalW\n",
    "            plotnode(seconddict[key],(plottree.xOff,plottree.yOff),cpt,leaf)\n",
    "            plottext((plottree.xOff,plottree.yOff),cpt,str(key))\n",
    "    plottree.yOff = plottree.yOff + 1.0/plottree.totalD\n",
    "\n",
    "def createPlot(intree):\n",
    "    fig = plt.figure(1,facecolor='white')\n",
    "    fig.clf()\n",
    "    axprops = dict(xticks=[],yticks=[])\n",
    "    createPlot.ax1 = plt.subplot(111,frameon=False,**axprops)#ax1相当于赋予一个属性\n",
    "    plottree.totalW = float(getnum(intree))\n",
    "    plottree.totalD = float(getdepth(intree))\n",
    "    plottree.xOff = -0.5/plottree.totalW #初始化x\n",
    "    plottree.yOff = 1.0\n",
    "    plottree(intree,(0.5,1.0),'')\n",
    "    plt.show()\n",
    "    \n",
    "    "
   ]
  },
  {
   "cell_type": "code",
   "execution_count": 114,
   "metadata": {},
   "outputs": [
    {
     "name": "stdout",
     "output_type": "stream",
     "text": [
      "(0.5, 1.0)\n",
      "(0.5, 1.0)\n",
      "(0.6666666666666666, 0.5)\n",
      "(0.5, 1.0)\n"
     ]
    },
    {
     "data": {
      "image/png": "[encoded data removed]",
      "text/plain": [
       "<matplotlib.figure.Figure at 0x112604cc0>"
      ]
     },
     "metadata": {},
     "output_type": "display_data"
    }
   ],
   "source": [
    "createPlot(mytree)"
   ]
  },
  {
   "cell_type": "code",
   "execution_count": 126,
   "metadata": {},
   "outputs": [],
   "source": [
    "#分类函数\n",
    "def classify(tree,labels,test):\n",
    "    first = list(tree.keys())[0]#第一个特征\n",
    "    seconddict = tree[first]#第二个字典\n",
    "    index = labels.index(first)#第一个特征的索引\n",
    "    for key in seconddict.keys():\n",
    "        if test[index] == key:\n",
    "            if type(seconddict[key]).__name__=='dict':\n",
    "                classlabel = classify(seconddict[key],labels,test)\n",
    "            else: classlabel = seconddict[key]\n",
    "    return classlabel"
   ]
  },
  {
   "cell_type": "code",
   "execution_count": 128,
   "metadata": {},
   "outputs": [
    {
     "data": {
      "text/plain": [
       "'no'"
      ]
     },
     "execution_count": 128,
     "metadata": {},
     "output_type": "execute_result"
    }
   ],
   "source": [
    "classify(mytree,labels,[1,0])"
   ]
  },
  {
   "cell_type": "code",
   "execution_count": 131,
   "metadata": {},
   "outputs": [],
   "source": [
    "#决策树的存储\n",
    "import pickle\n",
    "def storetree(tree,filename):\n",
    "    with open(filename,'w') as fw:\n",
    "        pickle.dump(tree,fw)\n",
    "    \n",
    "def grabtree(filename):\n",
    "    with open(filename) as fr:\n",
    "        return pickle.load(fr)"
   ]
  },
  {
   "cell_type": "code",
   "execution_count": 133,
   "metadata": {},
   "outputs": [
    {
     "name": "stdout",
     "output_type": "stream",
     "text": [
      "3\n",
      "['age', 'prescript', 'astigamtic', 'tearRate']\n",
      "2\n",
      "['age', 'prescript', 'astigamtic']\n",
      "1\n",
      "['age', 'prescript']\n",
      "0\n",
      "['age']\n",
      "0\n",
      "['age', 'prescript']\n",
      "0\n",
      "['prescript']\n"
     ]
    },
    {
     "data": {
      "text/plain": [
       "{'tearRate': {'normal': {'astigamtic': {'no': {'age': {'pre': 'soft',\n",
       "      'presbyopic': {'prescript': {'hyper': 'soft', 'myope': 'no lenses'}},\n",
       "      'young': 'soft'}},\n",
       "    'yes': {'prescript': {'hyper': {'age': {'pre': 'no lenses',\n",
       "        'presbyopic': 'no lenses',\n",
       "        'young': 'hard'}},\n",
       "      'myope': 'hard'}}}},\n",
       "  'reduced': 'no lenses'}}"
      ]
     },
     "execution_count": 133,
     "metadata": {},
     "output_type": "execute_result"
    }
   ],
   "source": [
    "with open('/Users/enjlife/machine-learning/machinelearninginaction/ch03/lenses.txt') as fr:\n",
    "    lenses = [inst.strip().split('\\t') for inst in fr.readlines()]\n",
    "lenselabels = ['age','prescript','astigamtic','tearRate']\n",
    "lensestree = createtree(lenses,lenselabels)\n",
    "lensestree"
   ]
  },
  {
   "cell_type": "code",
   "execution_count": 134,
   "metadata": {},
   "outputs": [
    {
     "name": "stdout",
     "output_type": "stream",
     "text": [
      "(0.5, 1.0)\n",
      "(0.5, 1.0)\n",
      "(0.5555555555555556, 0.75)\n",
      "(0.5, 1.0)\n",
      "(0.33333333333333337, 0.5)\n",
      "(0.5555555555555556, 0.75)\n",
      "(0.38888888888888884, 0.25)\n",
      "(0.33333333333333337, 0.5)\n",
      "(0.7777777777777778, 0.5)\n",
      "(0.5555555555555556, 0.75)\n",
      "(0.6666666666666666, 0.25)\n",
      "(0.7777777777777778, 0.5)\n"
     ]
    },
    {
     "data": {
      "image/png": "[encoded data removed]",
      "text/plain": [
       "<matplotlib.figure.Figure at 0x1127262b0>"
      ]
     },
     "metadata": {},
     "output_type": "display_data"
    }
   ],
   "source": [
    "createPlot(lensestree)"
   ]
  },
  {
   "cell_type": "code",
   "execution_count": null,
   "metadata": {},
   "outputs": [],
   "source": []
  },
  {
   "cell_type": "code",
   "execution_count": null,
   "metadata": {},
   "outputs": [],
   "source": []
  },
  {
   "cell_type": "code",
   "execution_count": null,
   "metadata": {},
   "outputs": [],
   "source": []
  }
 ],
 "metadata": {
  "kernelspec": {
   "display_name": "Python 3",
   "language": "python",
   "name": "python3"
  },
  "language_info": {
   "codemirror_mode": {
    "name": "ipython",
    "version": 3
   },
   "file_extension": ".py",
   "mimetype": "text/x-python",
   "name": "python",
   "nbconvert_exporter": "python",
   "pygments_lexer": "ipython3",
   "version": "3.6.4"
  }
 },
 "nbformat": 4,
 "nbformat_minor": 2
}
