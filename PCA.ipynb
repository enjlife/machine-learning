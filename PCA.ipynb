{
 "cells": [
  {
   "cell_type": "code",
   "execution_count": 42,
   "metadata": {},
   "outputs": [],
   "source": [
    "import numpy as np\n",
    "import matplotlib.pyplot as plt"
   ]
  },
  {
   "cell_type": "code",
   "execution_count": 52,
   "metadata": {},
   "outputs": [],
   "source": [
    "filename1 = '/Users/enjlife/machine-learning/machinelearninginaction/ch13/testSet.txt'\n",
    "filename2 = '/Users/enjlife/machine-learning/machinelearninginaction/ch13/secom.data'"
   ]
  },
  {
   "cell_type": "code",
   "execution_count": 57,
   "metadata": {},
   "outputs": [],
   "source": [
    "def loaddata(filename,delim='\\t'):\n",
    "    with open(filename) as fr:\n",
    "        arr = [line.strip().split(delim) for line in fr.readlines()]\n",
    "    dataarr = np.array(arr).astype(float)\n",
    "    return dataarr"
   ]
  },
  {
   "cell_type": "code",
   "execution_count": 36,
   "metadata": {},
   "outputs": [],
   "source": [
    "def pca(data,nfeat=9999999):\n",
    "    meanval = np.mean(data,0)\n",
    "    meanre = data - meanval\n",
    "    #此处会获取一个2x2协方差矩阵\n",
    "    covmat = np.cov(meanre,rowvar=False)#rowvar为0 行代表一条数据，列代表一个特征 默认为True\n",
    "    eigval,eigvect = np.linalg.eig(covmat)\n",
    "    eigvalind = np.argsort(eigval)#获取排序后的索引\n",
    "    eigvalind = eigvalind[:-(nfeat+1):-1]#倒序，取倒序的前nfeat个\n",
    "    redeigvect = eigvect[:,eigvalind]\n",
    "    \n",
    "    lowdat = np.dot(meanre,redeigvect)\n",
    "    recon = np.dot(lowdat,redeigvect.T) + meanval\n",
    "    return lowdat,recon\n",
    "    "
   ]
  },
  {
   "cell_type": "code",
   "execution_count": 40,
   "metadata": {},
   "outputs": [],
   "source": [
    "data = loaddata(filename1)\n",
    "lowdat,recon = pca(data,1)"
   ]
  },
  {
   "cell_type": "code",
   "execution_count": 43,
   "metadata": {},
   "outputs": [
    {
     "data": {
      "image/png": "[encoded data removed]",
      "text/plain": [
       "<matplotlib.figure.Figure at 0x10986df98>"
      ]
     },
     "metadata": {},
     "output_type": "display_data"
    }
   ],
   "source": [
    "fig = plt.figure()\n",
    "ax = fig.add_subplot(111)\n",
    "ax.scatter(data[:,0],data[:,1],marker='^',s=90)\n",
    "ax.scatter(recon[:,0],recon[:,1],marker='o',s=50,c='red')\n",
    "plt.show()"
   ]
  },
  {
   "cell_type": "code",
   "execution_count": 51,
   "metadata": {},
   "outputs": [
    {
     "name": "stdout",
     "output_type": "stream",
     "text": [
      "[3 2 6 0 1 4 5 7]\n",
      "[3 2 6] \n",
      " [7 5 4] \n",
      " [7 5 4 1]\n"
     ]
    }
   ],
   "source": [
    "a = np.array([3,4,2,1,4,6,2,9])\n",
    "b = np.argsort(a)\n",
    "print(b)\n",
    "c = b[:3]\n",
    "d = b[:-(3+1):-1]\n",
    "e = b[:3:-1]\n",
    "print(c,'\\n',d,'\\n',e)"
   ]
  },
  {
   "cell_type": "code",
   "execution_count": 69,
   "metadata": {},
   "outputs": [],
   "source": [
    "def replacenan():\n",
    "    data2 = loaddata(filename2,' ')\n",
    "    numfeat = data2.shape[1]\n",
    "    for i in range(numfeat):\n",
    "        meanval = np.mean(data2[np.nonzero(~np.isnan(data2[:,i]))[0],i])#~np.isnan()取nan的值\n",
    "        data2[np.nonzero(np.isnan(data2[:,i]))[0],i] = meanval\n",
    "    return data2"
   ]
  },
  {
   "cell_type": "code",
   "execution_count": 70,
   "metadata": {},
   "outputs": [
    {
     "name": "stdout",
     "output_type": "stream",
     "text": [
      "[[3.03093000e+03 2.56400000e+03 2.18773330e+03 ... 1.64749042e-02\n",
      "  5.28333333e-03 9.96700663e+01]\n",
      " [3.09578000e+03 2.46514000e+03 2.23042220e+03 ... 2.01000000e-02\n",
      "  6.00000000e-03 2.08204500e+02]\n",
      " [2.93261000e+03 2.55994000e+03 2.18641110e+03 ... 4.84000000e-02\n",
      "  1.48000000e-02 8.28602000e+01]\n",
      " ...\n",
      " [2.97881000e+03 2.37978000e+03 2.20630000e+03 ... 8.60000000e-03\n",
      "  2.50000000e-03 4.35231000e+01]\n",
      " [2.89492000e+03 2.53201000e+03 2.17703330e+03 ... 2.45000000e-02\n",
      "  7.50000000e-03 9.34941000e+01]\n",
      " [2.94492000e+03 2.45076000e+03 2.19544440e+03 ... 1.62000000e-02\n",
      "  4.50000000e-03 1.37784400e+02]]\n"
     ]
    }
   ],
   "source": [
    "data2 = replacenan()\n",
    "print(data2)\n",
    "meanval = np.mean(data2,axis=0)\n",
    "meanre = data2 - meanval\n",
    "\n",
    "cova = np.cov(meanre,rowvar=0)\n",
    "\n",
    "eigval,eigvect = np.linalg.eig(cova)"
   ]
  },
  {
   "cell_type": "code",
   "execution_count": 76,
   "metadata": {},
   "outputs": [
    {
     "data": {
      "text/plain": [
       "[<matplotlib.lines.Line2D at 0x1099faa58>]"
      ]
     },
     "execution_count": 76,
     "metadata": {},
     "output_type": "execute_result"
    },
    {
     "data": {
      "image/png": "[encoded data removed]",
      "text/plain": [
       "<matplotlib.figure.Figure at 0x109a3c198>"
      ]
     },
     "metadata": {},
     "output_type": "display_data"
    }
   ],
   "source": [
    "plt.figure()\n",
    "plt.plot(eigval[:20],marker='^')"
   ]
  },
  {
   "cell_type": "code",
   "execution_count": null,
   "metadata": {},
   "outputs": [],
   "source": []
  },
  {
   "cell_type": "code",
   "execution_count": null,
   "metadata": {},
   "outputs": [],
   "source": []
  },
  {
   "cell_type": "code",
   "execution_count": null,
   "metadata": {},
   "outputs": [],
   "source": []
  },
  {
   "cell_type": "code",
   "execution_count": null,
   "metadata": {},
   "outputs": [],
   "source": []
  },
  {
   "cell_type": "code",
   "execution_count": null,
   "metadata": {},
   "outputs": [],
   "source": []
  },
  {
   "cell_type": "code",
   "execution_count": null,
   "metadata": {},
   "outputs": [],
   "source": []
  }
 ],
 "metadata": {
  "kernelspec": {
   "display_name": "Python 3",
   "language": "python",
   "name": "python3"
  },
  "language_info": {
   "codemirror_mode": {
    "name": "ipython",
    "version": 3
   },
   "file_extension": ".py",
   "mimetype": "text/x-python",
   "name": "python",
   "nbconvert_exporter": "python",
   "pygments_lexer": "ipython3",
   "version": "3.6.4"
  }
 },
 "nbformat": 4,
 "nbformat_minor": 2
}
